{
 "cells": [
  {
   "cell_type": "code",
   "execution_count": 2,
   "metadata": {},
   "outputs": [],
   "source": [
    "import struct\n",
    "import numpy as np\n",
    "import sys\n",
    "from scipy.io import loadmat\n",
    "from scipy.special import sph_harm\n",
    "import autograd.numpy as np\n",
    "from autograd import jacobian\n",
    "import math\n",
    "import matplotlib.pyplot as plt\n",
    "from time import time\n",
    "from mpl_toolkits.mplot3d import axes3d, Axes3D #<-- Note the capitalization! \n",
    "from shapely.geometry import Point\n",
    "from shapely.geometry.polygon import Polygon"
   ]
  },
  {
   "cell_type": "code",
   "execution_count": 3,
   "metadata": {},
   "outputs": [],
   "source": [
    "no_of_ver = 53215 #53490"
   ]
  },
  {
   "cell_type": "code",
   "execution_count": 4,
   "metadata": {
    "scrolled": true
   },
   "outputs": [],
   "source": [
    "fileName='Dataset/Coarse_Dataset/Exp_Pca.bin'\n",
    "with open(fileName, mode='rb') as file: # b is important -> binary\n",
    "#     fileContent = file.read()\n",
    "    dim_exp = np.fromfile(file, dtype=np.int32, count=1)\n",
    "    mu_exp = np.zeros(no_of_ver*3)\n",
    "    base_exp = np.zeros((no_of_ver*3,dim_exp[0]), dtype=float)\n",
    "    mu_exp = np.fromfile(file, dtype=float, count=3*no_of_ver)\n",
    "    base_exp = np.fromfile(file, dtype=float, count=3*no_of_ver*dim_exp[0])"
   ]
  },
  {
   "cell_type": "code",
   "execution_count": 5,
   "metadata": {},
   "outputs": [],
   "source": [
    "A_exp = np.array(np.resize(base_exp, (no_of_ver*3, dim_exp[0])))"
   ]
  },
  {
   "cell_type": "code",
   "execution_count": 6,
   "metadata": {},
   "outputs": [],
   "source": [
    "data = np.loadtxt('Dataset/Coarse_Dataset/std_exp.txt', delimiter=' ')\n",
    "data=data[:,np.newaxis]"
   ]
  },
  {
   "cell_type": "code",
   "execution_count": 7,
   "metadata": {},
   "outputs": [],
   "source": [
    "temp = loadmat('Dataset/3DDFA_Release/Matlab/ModelGeneration/model_info.mat')\n",
    "trimIndex = np.array(temp['trimIndex'][:,0], dtype=np.int32)\n",
    "trim_ind = np.reshape(np.array([3*trimIndex-2,3*trimIndex-1,3*trimIndex])-1,(no_of_ver*3,),'F')#np.append(3*trimIndex-2,np.append( 3*trimIndex-1, 3*trimIndex))\n",
    "tri_mesh_data = temp['tri'].T"
   ]
  },
  {
   "cell_type": "code",
   "execution_count": 8,
   "metadata": {},
   "outputs": [],
   "source": [
    "lmks_3d_ind = temp['keypoints']\n",
    "\n",
    "def load(path):\n",
    "    \"\"\"takes as input the path to a .pts and returns a list of \n",
    "\ttuples of floats containing the points in in the form:\n",
    "\t[(x_0, y_0, z_0),\n",
    "\t (x_1, y_1, z_1),\n",
    "\t ...\n",
    "\t (x_n, y_n, z_n)]\"\"\"\n",
    "    with open(path) as f:\n",
    "        rows = [rows.strip() for rows in f]\n",
    "    \n",
    "    \"\"\"Use the curly braces to find the start and end of the point data\"\"\" \n",
    "    head = rows.index('{') + 1\n",
    "    tail = rows.index('}')\n",
    "\n",
    "    \"\"\"Select the point data split into coordinates\"\"\"\n",
    "    raw_points = rows[head:tail]\n",
    "    coords_set = [point.split() for point in raw_points]\n",
    "\n",
    "    \"\"\"Convert entries from lists of strings to tuples of floats\"\"\"\n",
    "    points = [tuple([float(point) for point in coords]) for coords in coords_set]\n",
    "    return points\n",
    "\n",
    "lmks_2d = np.array(load('Dataset/300W-Convert/300W-Original/afw/134212_1.pts'))\n",
    "\n",
    "no_of_lmks = len(lmks_2d)\n",
    "lmks = {}\n",
    "lmks['2d'] = lmks_2d-[700,144]\n",
    "lmks['3d'] = lmks_3d_ind"
   ]
  },
  {
   "cell_type": "code",
   "execution_count": 9,
   "metadata": {},
   "outputs": [],
   "source": [
    "morph_model = loadmat('Dataset/PublicMM1/01_MorphableModel.mat')"
   ]
  },
  {
   "cell_type": "code",
   "execution_count": 10,
   "metadata": {},
   "outputs": [
    {
     "data": {
      "text/plain": [
       "dict_keys(['__header__', '__version__', '__globals__', 'tl', 'shapeMU', 'shapePC', 'shapeEV', 'texMU', 'texPC', 'texEV', 'segbin', 'segMM', 'segMB'])"
      ]
     },
     "execution_count": 10,
     "metadata": {},
     "output_type": "execute_result"
    }
   ],
   "source": [
    "morph_model.keys()"
   ]
  },
  {
   "cell_type": "code",
   "execution_count": 11,
   "metadata": {},
   "outputs": [],
   "source": [
    "shapePCA = morph_model['shapePC']\n",
    "shapeMU = morph_model['shapeMU']\n",
    "shapeSTD = morph_model['shapeEV']\n",
    "\n",
    "texPCA = morph_model['texPC']\n",
    "texMU = morph_model['texMU']\n",
    "texSTD = morph_model['texEV']\n",
    "\n",
    "p_mu = shapeMU[trim_ind]\n",
    "b_mu = texMU[trim_ind]\n",
    "A_alb = np.array(texPCA[trim_ind,:100])\n",
    "A_id = np.array(shapePCA[trim_ind,:100])\n",
    "std_id = np.array(shapeSTD[:100])\n",
    "std_alb = np.array(texSTD[:100])\n",
    "std_exp = np.array(data)"
   ]
  },
  {
   "cell_type": "code",
   "execution_count": 12,
   "metadata": {},
   "outputs": [],
   "source": [
    "PI = np.zeros((2,3))\n",
    "PI[0,1] = 1\n",
    "PI[1,0] = 1"
   ]
  },
  {
   "cell_type": "code",
   "execution_count": 13,
   "metadata": {},
   "outputs": [],
   "source": [
    "chi = np.random.random_sample((312,1))"
   ]
  },
  {
   "cell_type": "markdown",
   "metadata": {},
   "source": [
    "$$ \\chi_g = \\{\\alpha_{id},\\alpha_{exp}\\} $$\n",
    "$$ \\chi_p = \\{\\textit{pitch}, \\textit{yaw}, \\textit{roll}\\} $$\n",
    "$$ \\chi_t = \\{s, \\textbf{t}\\} $$\n",
    "$$ \\chi_l = \\{\\alpha_{alb}, \\textbf{r}\\} $$"
   ]
  },
  {
   "cell_type": "code",
   "execution_count": 14,
   "metadata": {},
   "outputs": [],
   "source": [
    "al_id = chi[0:100]\n",
    "al_exp = chi[100:179]\n",
    "al_alb = chi[179:279]\n",
    "[s, pitch, yaw, roll] = chi[279:283,0]\n",
    "t = chi[283:285]\n",
    "r = chi[285:]\n",
    "gamma_r = r[:9]\n",
    "gamma_g = r[9:18]\n",
    "gamma_b = r[18:]"
   ]
  },
  {
   "cell_type": "markdown",
   "metadata": {},
   "source": [
    "$E(\\chi) = E_{con} + w_lE_{lan} + w_rE_{reg}$ \n",
    "\n",
    "$$E(\\chi) = \\frac{1}{|F|} \\|I_{ren} - I_{in}\\|^2 + w_l*\\frac{1}{|L|} \\sum_{i\\in L} \\|\\textbf{q}_i - (\\Pi R\\textbf{p}_i + \\textbf{t})\\|^2+ w_r*\\sum_{i=1}^{100} [(\\frac{\\alpha_{id,i}}{\\sigma_{id,i}})^2+(\\frac{\\alpha_{alb,i}}{\\sigma_{alb,i}})^2] + \\sum_{i=1}^{79} (\\frac{\\alpha_{exp,i}}{\\sigma_{exp,i}})^2$$"
   ]
  },
  {
   "cell_type": "code",
   "execution_count": 15,
   "metadata": {},
   "outputs": [],
   "source": [
    "def P(l, m, x):\n",
    "    pmm = 1.0\n",
    "    if m>0:\n",
    "        somx2 = np.sqrt((1.0-x)*(1.0+x))\n",
    "        fact = 1.0\n",
    "        for i in range(m):\n",
    "            pmm = -fact*pmm*somx2\n",
    "            fact = fact+2.0\n",
    "    if l==m :\n",
    "        return pmm\n",
    "    pmmp1 = x*(2.0*m+1.0)*pmm\n",
    "    if (l==m+1):\n",
    "        return pmmp1\n",
    "    pll = 0.0\n",
    "    for ll in range(m+2, l+1):\n",
    "        pll = ((2.0*ll-1.0)*x*pmmp1 - (ll+m-1.0)*pmm)/(ll-m)\n",
    "        pmm = pmmp1\n",
    "        pmmp1 = pll\n",
    "    return pll\n",
    "\n",
    "def factorial(n):\n",
    "    return np.prod(range(1,n+1))\n",
    "\n",
    "def K(l, m):\n",
    "    norm_const = ((2.0*l+1.0)*factorial(l-m))/((4.0*np.pi)*factorial(l+m))\n",
    "    return np.sqrt(norm_const)\n",
    "\n",
    "def SH(m, l, phi, theta):\n",
    "    sqrt2 = np.sqrt(2.0)\n",
    "    if m==0:\n",
    "        return K(l,0)*P(l,m,np.cos(theta))\n",
    "    elif m>0:\n",
    "        return sqrt2*K(l,m)*np.cos(m*phi)*P(l,m,np.cos(theta))\n",
    "    else:\n",
    "        return sqrt2*K(l,-m)*np.sin(-m*phi)*P(l,-m,np.cos(theta))"
   ]
  },
  {
   "cell_type": "code",
   "execution_count": 16,
   "metadata": {},
   "outputs": [],
   "source": [
    "def rot_mat(pitch, yaw, roll):\n",
    "    Rx = np.array([[1,0,0],\n",
    "                   [0,np.cos(roll),-np.sin(roll)],\n",
    "                   [0,np.sin(roll),np.cos(roll)]])\n",
    "    Ry = np.array([[np.cos(pitch),0,np.sin(pitch)],\n",
    "                   [0,1,0],\n",
    "                   [-np.sin(pitch),0,np.cos(pitch)]])\n",
    "    Rz = np.array([[np.cos(yaw),-np.sin(yaw),0],\n",
    "                   [np.sin(yaw),np.cos(yaw),0],\n",
    "                   [0,0,1]])\n",
    "    R = Rz@Ry@Rx\n",
    "    return R\n",
    "\n",
    "def sh_basis(n):\n",
    "    theta = n[1] #Polar angle\n",
    "    phi = n[0] #Azimuth angle\n",
    "    sh = np.zeros((9,), dtype=np.float32)\n",
    "    count = 0\n",
    "    \n",
    "#     for l in range(3):\n",
    "#         for m in np.arange(-l,l+1):\n",
    "#             temp = sph_harm(m,l,phi,theta)\n",
    "#             if m==0:\n",
    "#                 sh[count]=np.real(temp)\n",
    "#             elif m>0:\n",
    "#                 sh[count]=np.sqrt(2)*np.real(temp)\n",
    "#             else:\n",
    "#                 sh[count]=np.sqrt(2)*np.imag(temp)\n",
    "#             count = count+1\n",
    "#             sh[count] = SH(m,l,phi,theta)\n",
    "#             count=count+1\n",
    "        \n",
    "    \n",
    "    return np.array([SH(m,l,phi,theta) for l in range(3) for m in range(-l,l+1) ])"
   ]
  },
  {
   "cell_type": "code",
   "execution_count": 17,
   "metadata": {},
   "outputs": [],
   "source": [
    "p = p_mu + np.matmul(A_id,al_id) + np.matmul(A_exp,al_exp)\n",
    "b = b_mu + np.matmul(A_alb,al_alb)\n",
    "vertex = np.reshape(p, (no_of_ver, 3))\n",
    "albedo = np.reshape(b, (no_of_ver, 3))"
   ]
  },
  {
   "cell_type": "code",
   "execution_count": 18,
   "metadata": {},
   "outputs": [],
   "source": [
    "\"\"\"My rasterization code...not used in the program\"\"\"\n",
    "# def barycentric_weights(p, tri_p):\n",
    "#     #http://blackpawn.com/texts/pointinpoly/\n",
    "    \n",
    "#     a = tri_p[0,:]\n",
    "#     b = tri_p[1,:]\n",
    "#     c = tri_p[2,:]\n",
    "    \n",
    "#     v0 = c - a\n",
    "#     v1 = b - a\n",
    "#     v2 = p - a\n",
    "    \n",
    "#     dot00 = np.dot(v0,v0)\n",
    "#     dot01 = np.dot(v0,v1)\n",
    "#     dot02 = np.dot(v0,v2)\n",
    "#     dot11 = np.dot(v1,v1)\n",
    "#     dot12 = np.dot(v1,v2)\n",
    "    \n",
    "#     denom = dot00*dot11 - dot01*dot01\n",
    "    \n",
    "#     if denom == 0:\n",
    "#         u = v = 0\n",
    "#     else:\n",
    "#         u = (dot11*dot02-dot01*dot12)/denom\n",
    "#         v = (dot00*dot12-dot01*dot02)/denom\n",
    "        \n",
    "#     weights = np.array([1-u-v, u, v])\n",
    "        \n",
    "#     return weights\n",
    "\n",
    "# def rasterize(q, q_depth, tri_mesh_data, h, w):\n",
    "#     depth_info = -math.inf*np.ones((h,w))\n",
    "# #     depth_info = {}\n",
    "#     tri_ind_info = -np.ones((h,w), dtype = np.int32)\n",
    "#     bary_wts_info = {}\n",
    "    \n",
    "#     for i in range(h):\n",
    "#         for j in range(w):\n",
    "# #             depth_info[(i,j)] = -math.inf\n",
    "#             bary_wts_info[(i,j)] = 0\n",
    "    \n",
    "#     for i in range(len(tri_mesh_data)):\n",
    "#         print('rasterizing: ',i+1)\n",
    "#         tri_ver_ind = tri_mesh_data[i,:]\n",
    "        \n",
    "#         umin = max(int(np.ceil(np.min(q[tri_ver_ind, 0]))), 0)\n",
    "#         umax = min(int(np.floor(np.max(q[tri_ver_ind, 0]))), w-1)\n",
    "        \n",
    "#         vmin = max(int(np.ceil(np.min(q[tri_ver_ind, 1]))), 0)\n",
    "#         vmax = min(int(np.floor(np.max(q[tri_ver_ind, 1]))), h-1)\n",
    "        \n",
    "#         if umax<umin or vmax<vmin:\n",
    "#             continue\n",
    "#         else:\n",
    "#             for u in range(umin, umax+1):\n",
    "#                 for v in range(vmin, vmax+1):\n",
    "#                     weights = barycentric_weights([u, v], q[tri_ver_ind, :])\n",
    "#                     if (weights<0).all():\n",
    "#                         continue\n",
    "#                     else:\n",
    "#                         depth = np.dot(weights, q_depth[tri_ver_ind])\n",
    "#                         if depth > depth_info[(u, v)]:\n",
    "#                             depth_info[u, v] = depth\n",
    "#                             tri_ind_info[u, v] = i\n",
    "#                             bary_wts_info[(u, v)] = weights\n",
    "                            \n",
    "#     return tri_ind_info, bary_wts_info\n",
    "\n",
    "def world_to_image(q_world, h, w):\n",
    "    temp = np.array([w/2,h/2-h+1,0])\n",
    "    q_image = (q_world + temp)*[1,-1,1]\n",
    "    \n",
    "#     q_image[:,0] = q_image[:,0] + w/2\n",
    "#     q_image[:,1] = q_image[:,1] + h/2\n",
    "#     q_image[:,1] = h - q_image[:,1] - 1\n",
    "    \n",
    "    return q_image\n",
    "\n",
    "def cart2sph(n):\n",
    "    temp = n[1]/n[0]\n",
    "    \n",
    "    if n[0]==0:\n",
    "        if n[1]<0:\n",
    "            phi = -np.pi/2\n",
    "        else:\n",
    "            phi = np.pi/2\n",
    "    else:\n",
    "        if n[0]>0:\n",
    "            phi = np.arctan(temp)\n",
    "        elif n[1]<0:\n",
    "            phi = np.arctan(temp) - np.pi\n",
    "        else:\n",
    "            phi = np.arctan(temp) + np.pi\n",
    "#     phi = np.arctan() #arctan(y/x)\n",
    "    theta = np.arccos(n[2]) #arccos(z)\n",
    "    \n",
    "    return [phi, theta]\n",
    "\n",
    "def calculate_normal(tri_ind_info, tri_mesh_data, centroid, q, h, w):\n",
    "#     normal_xyz = np.zeros((h, w, 3))\n",
    "#     normal_sph = np.zeros((h, w, 2))\n",
    "    normal_xyz = {}\n",
    "    normal_sph = {}\n",
    "    \n",
    "    for i in range(h):\n",
    "        for j in range(w):\n",
    "            normal_xyz[(i,j)] = 0\n",
    "            normal_sph[(i,j)] = 0\n",
    "            tri_ver = q[tri_mesh_data[tri_ind_info[i, j]-1, :],:]\n",
    "            a = tri_ver[0,:]\n",
    "            b = tri_ver[1,:]\n",
    "            c = tri_ver[2,:]\n",
    "            normal_xyz[(i,j)] = np.cross(a-b, b-c)/np.linalg.norm(np.cross(a-b, b-c))\n",
    "            if np.dot(np.mean(tri_ver, 0)-centroid, normal_xyz[(i,j)])<0:\n",
    "                normal_xyz[(i,j)] *= -1\n",
    "            normal_sph[(i,j)] = cart2sph(normal_xyz[(i,j)])\n",
    "    return normal_sph\n",
    "\n",
    "def render_color_image(q, albedo, tri_mesh_data, gamma, h, w):\n",
    "#     image = np.zeros((h,w,3), dtype=np.float32)\n",
    "    centroid = np.mean(q,0)\n",
    "    \n",
    "#     tri_ind_info, bary_wts_info = rasterize(q[:,:2], q[:,2], tri_mesh_data, h, w)\n",
    "    st = time()\n",
    "    depth_info, tri_ind_info, bary_wts_info = rasterize_triangles(q, tri_mesh_data, h, w)\n",
    "    print(time()-st)\n",
    "    \n",
    "    n_sph = calculate_normal(tri_ind_info, tri_mesh_data, centroid, q, h, w)\n",
    "    \n",
    "#     for i in range(h):\n",
    "#         for j in range(w):\n",
    "#             sh_func = sh_basis(n_sph[(i,j)])\n",
    "#             image[i,j,:] = (albedo[tri_mesh_data[tri_ind_info[i, j], :],:].T@bary_wts_info[(i,j)])*(gamma.T@sh_func.squeeze())\n",
    "#             image[i,j,:] = alb[i,j,:]*(gamma.T@sh_func.squeeze())\n",
    "    image = np.array([[(albedo[tri_mesh_data[tri_ind_info[i, j], :],:].T@bary_wts_info[(i,j)])*(gamma.T@sh_basis((n_sph[(i,j)])).squeeze()) for j in range(w)] for i in range(h)])\n",
    "    return image"
   ]
  },
  {
   "cell_type": "code",
   "execution_count": 19,
   "metadata": {},
   "outputs": [],
   "source": [
    "def isPointInTri(point, tri_points):\n",
    "    ''' Judge whether the point is in the triangle\n",
    "    Method:\n",
    "        http://blackpawn.com/texts/pointinpoly/\n",
    "    Args:\n",
    "        point: (2,). [u, v] or [x, y] \n",
    "        tri_points: (3 vertices, 2 coords). three vertices(2d points) of a triangle. \n",
    "    Returns:\n",
    "        bool: true for in triangle\n",
    "    '''\n",
    "    tp = tri_points\n",
    "\n",
    "    # vectors\n",
    "    v0 = tp[2,:] - tp[0,:]\n",
    "    v1 = tp[1,:] - tp[0,:]\n",
    "    v2 = point - tp[0,:]\n",
    "\n",
    "    # dot products\n",
    "    dot00 = np.dot(v0.T, v0)\n",
    "    dot01 = np.dot(v0.T, v1)\n",
    "    dot02 = np.dot(v0.T, v2)\n",
    "    dot11 = np.dot(v1.T, v1)\n",
    "    dot12 = np.dot(v1.T, v2)\n",
    "\n",
    "    # barycentric coordinates\n",
    "    if dot00*dot11 - dot01*dot01 == 0:\n",
    "        inverDeno = 0\n",
    "    else:\n",
    "        inverDeno = 1/(dot00*dot11 - dot01*dot01)\n",
    "\n",
    "    u = (dot11*dot02 - dot01*dot12)*inverDeno\n",
    "    v = (dot00*dot12 - dot01*dot02)*inverDeno\n",
    "\n",
    "    # check if point in triangle\n",
    "    return (u >= 0) & (v >= 0) & (u + v < 1)\n",
    "\n",
    "def get_point_weight(point, tri_points):\n",
    "    ''' Get the weights of the position\n",
    "    Methods: https://gamedev.stackexchange.com/questions/23743/whats-the-most-efficient-way-to-find-barycentric-coordinates\n",
    "     -m1.compute the area of the triangles formed by embedding the point P inside the triangle\n",
    "     -m2.Christer Ericson's book \"Real-Time Collision Detection\". faster.(used)\n",
    "    Args:\n",
    "        point: (2,). [u, v] or [x, y] \n",
    "        tri_points: (3 vertices, 2 coords). three vertices(2d points) of a triangle. \n",
    "    Returns:\n",
    "        w0: weight of v0\n",
    "        w1: weight of v1\n",
    "        w2: weight of v3\n",
    "     '''\n",
    "    tp = tri_points\n",
    "    # vectors\n",
    "    v0 = tp[2,:] - tp[0,:]\n",
    "    v1 = tp[1,:] - tp[0,:]\n",
    "    v2 = point - tp[0,:]\n",
    "\n",
    "    # dot products\n",
    "    dot00 = np.dot(v0.T, v0)\n",
    "    dot01 = np.dot(v0.T, v1)\n",
    "    dot02 = np.dot(v0.T, v2)\n",
    "    dot11 = np.dot(v1.T, v1)\n",
    "    dot12 = np.dot(v1.T, v2)\n",
    "\n",
    "    # barycentric coordinates\n",
    "    if dot00*dot11 - dot01*dot01 == 0:\n",
    "        inverDeno = 0\n",
    "    else:\n",
    "        inverDeno = 1/(dot00*dot11 - dot01*dot01)\n",
    "\n",
    "    u = (dot11*dot02 - dot01*dot12)*inverDeno\n",
    "    v = (dot00*dot12 - dot01*dot02)*inverDeno\n",
    "\n",
    "    w0 = 1 - u - v\n",
    "    w1 = v\n",
    "    w2 = u\n",
    "\n",
    "    return w0, w1, w2\n",
    "\n",
    "def rasterize_triangles(vertices, triangles, h, w):\n",
    "    ''' \n",
    "    Args:\n",
    "        vertices: [nver, 3]\n",
    "        triangles: [ntri, 3]\n",
    "        h: height\n",
    "        w: width\n",
    "    Returns:\n",
    "        depth_buffer: [h, w] saves the depth, here, the bigger the z, the fronter the point.\n",
    "        triangle_buffer: [h, w] saves the tri id(-1 for no triangle). \n",
    "        barycentric_weight: [h, w, 3] saves corresponding barycentric weight.\n",
    "\n",
    "    # Each triangle has 3 vertices & Each vertex has 3 coordinates x, y, z.\n",
    "    # h, w is the size of rendering\n",
    "    '''\n",
    "    # initial \n",
    "    depth_buffer = {}#np.zeros([h, w]) - 999999. #+ np.min(vertices[2,:]) - 999999. # set the initial z to the farest position\n",
    "    triangle_buffer = np.zeros([h, w], dtype = np.int32) - 1  # if tri id = -1, the pixel has no triangle correspondance\n",
    "    barycentric_weight = {}#np.zeros([h, w, 3], dtype = np.float32)  # \n",
    "    \n",
    "    for i in range(h):\n",
    "        for j in range(w):\n",
    "            depth_buffer[(i,j)] = -math.inf\n",
    "            barycentric_weight[(i,j)] = np.array([0, 0, 0])\n",
    "    \n",
    "    for i in range(triangles.shape[0]):\n",
    "#         print('Rasterzing: ',i+1)\n",
    "        tri = triangles[i, :] # 3 vertex indices\n",
    "\n",
    "        # the inner bounding box\n",
    "        umin = max(int(np.ceil(np.min(vertices[tri, 0]))), 0)\n",
    "        umax = min(int(np.floor(np.max(vertices[tri, 0]))), w-1)\n",
    "\n",
    "        vmin = max(int(np.ceil(np.min(vertices[tri, 1]))), 0)\n",
    "        vmax = min(int(np.floor(np.max(vertices[tri, 1]))), h-1)\n",
    "\n",
    "        if umax<umin or vmax<vmin:\n",
    "            continue\n",
    "\n",
    "        for u in range(umin, umax+1):\n",
    "            for v in range(vmin, vmax+1):\n",
    "                if not isPointInTri([u,v], vertices[tri, :2]): \n",
    "                    continue\n",
    "                w0, w1, w2 = get_point_weight([u, v], vertices[tri, :2]) # barycentric weight\n",
    "                point_depth = w0*vertices[tri[0], 2] + w1*vertices[tri[1], 2] + w2*vertices[tri[2], 2]\n",
    "                if point_depth > depth_buffer[v, u]:\n",
    "                    depth_buffer[(v, u)] = point_depth\n",
    "                    triangle_buffer[v, u] = i\n",
    "                    barycentric_weight[(v, u)] = np.array([w0, w1, w2])\n",
    "\n",
    "    return depth_buffer, triangle_buffer, barycentric_weight"
   ]
  },
  {
   "cell_type": "code",
   "execution_count": 20,
   "metadata": {},
   "outputs": [],
   "source": [
    "I_in = plt.imread('Dataset/300W-Convert/300W-Original/afw/134212_1.jpg')\n",
    "I_in=I_in[144:400,700:956,:]#I_in[160:384,704:928,:]\n",
    "h = w = 256"
   ]
  },
  {
   "cell_type": "code",
   "execution_count": 21,
   "metadata": {},
   "outputs": [],
   "source": [
    "polygon = Polygon(lmks['2d'][:17,:])\n",
    "temp2 = np.empty((h,w))\n",
    "for i in range(h):\n",
    "    for j in range(w):\n",
    "        point = Point(i,j)\n",
    "        temp2[i,j] = polygon.contains(point)\n",
    "no_of_face_pxls = np.sum(temp2==1)"
   ]
  },
  {
   "cell_type": "code",
   "execution_count": 21,
   "metadata": {},
   "outputs": [],
   "source": [
    "def E(chi, I_in, A_id, A_exp, A_alb, p_mu, b_mu, tri_mesh_data, lmks):\n",
    "    al_id = chi[0:100]\n",
    "    al_exp = chi[100:179]\n",
    "    al_alb = chi[179:279]\n",
    "    [s, pitch, yaw, roll] = chi[279:283,0]\n",
    "    t = chi[283:286]\n",
    "    r = chi[286:]\n",
    "    gamma = np.reshape(r,(9,3),'F')\n",
    "    lmks_2d = lmks['2d']\n",
    "    lmks_3d_ind = lmks['3d']\n",
    "    \n",
    "    R = rot_mat(pitch, yaw, roll)\n",
    "    \n",
    "    p = p_mu + A_id@al_id + A_exp@al_exp\n",
    "    b = b_mu + A_alb@al_alb\n",
    "    vertex = np.reshape(p, (no_of_ver, 3))\n",
    "    albedo = np.reshape(b, (no_of_ver, 3))\n",
    "    \n",
    "    q_world = s*R@vertex.T+t\n",
    "#     q_depth = [0, 0, 1]@R@vertex.T\n",
    "    \n",
    "    q_image = world_to_image(q_world.T, h, w)\n",
    "#     tri_ind_info, bary_wts_info = rasterize_triangles(q_image, tri_mesh_data, h, w)\n",
    "#     return tri_ind_info,bary_wts_info,albedo\n",
    "    \n",
    "    I_rend = render_color_image(q_image, albedo, tri_mesh_data, gamma, h, w)\n",
    "    \n",
    "    w_l = 10\n",
    "    w_r = 5e-5\n",
    "    E_con = (1/no_of_face_pxls)*np.linalg.norm(I_rend - I_in)**2 #No of face pixels is apporximately 28241\n",
    "    E_lan = (1/no_of_lmks)*np.linalg.norm(lmks_2d - q_image[lmks_3d_ind[0,:],:2])**2 #68 landmarks\n",
    "    E_reg = np.linalg.norm(al_id/std_id)**2 + np.linalg.norm(al_alb/std_alb)**2 + np.linalg.norm(al_exp/std_exp)**2\n",
    "    return E_con + w_l*E_lan + w_r*E_reg"
   ]
  },
  {
   "cell_type": "code",
   "execution_count": 24,
   "metadata": {},
   "outputs": [
    {
     "name": "stdout",
     "output_type": "stream",
     "text": [
      "Iteration No:  1\n",
      "13.128201484680176\n",
      "0.00118714\n",
      "33.35515856742859\n",
      "26.17777419090271\n",
      "Error:  69494483.22211605\n",
      "Iteration No:  2\n",
      "0.00118714\n",
      "33.112648725509644\n",
      "24.75240683555603\n",
      "Error:  185295819717.9219\n",
      "Iteration No:  3\n",
      "0.00118714\n",
      "33.212615966796875\n",
      "23.910141229629517\n",
      "Error:  2.7710033463680077e+18\n",
      "Iteration No:  4\n",
      "0.00118714\n",
      "32.3837525844574\n",
      "27.073165893554688\n",
      "Error:  7.418335168348677e+32\n",
      "Iteration No:  5\n",
      "0.00118714\n",
      "33.08201289176941\n",
      "789.5490894317627\n",
      "Error:  5.778474172868881e+80\n",
      "Iteration No:  6\n",
      "0.00118714\n",
      "33.404380798339844\n"
     ]
    },
    {
     "ename": "KeyboardInterrupt",
     "evalue": "",
     "output_type": "error",
     "traceback": [
      "\u001b[0;31m---------------------------------------------------------------------------\u001b[0m",
      "\u001b[0;31mKeyboardInterrupt\u001b[0m                         Traceback (most recent call last)",
      "\u001b[0;32m<ipython-input-24-c00011ebd089>\u001b[0m in \u001b[0;36m<module>\u001b[0;34m\u001b[0m\n\u001b[1;32m     22\u001b[0m         \u001b[0mE_val\u001b[0m \u001b[0;34m=\u001b[0m \u001b[0mE\u001b[0m\u001b[0;34m(\u001b[0m\u001b[0mchi_prev\u001b[0m\u001b[0;34m,\u001b[0m \u001b[0mI_in\u001b[0m\u001b[0;34m,\u001b[0m \u001b[0mA_id\u001b[0m\u001b[0;34m,\u001b[0m \u001b[0mA_exp\u001b[0m\u001b[0;34m,\u001b[0m \u001b[0mA_alb\u001b[0m\u001b[0;34m,\u001b[0m \u001b[0mp_mu\u001b[0m\u001b[0;34m,\u001b[0m \u001b[0mb_mu\u001b[0m\u001b[0;34m,\u001b[0m \u001b[0mtri_mesh_data\u001b[0m\u001b[0;34m-\u001b[0m\u001b[0;36m1\u001b[0m\u001b[0;34m,\u001b[0m \u001b[0mlmks\u001b[0m\u001b[0;34m)\u001b[0m\u001b[0;34m\u001b[0m\u001b[0;34m\u001b[0m\u001b[0m\n\u001b[1;32m     23\u001b[0m     \u001b[0mprint\u001b[0m\u001b[0;34m(\u001b[0m\u001b[0mchi_prev\u001b[0m\u001b[0;34m[\u001b[0m\u001b[0;36m279\u001b[0m\u001b[0;34m,\u001b[0m\u001b[0;36m0\u001b[0m\u001b[0;34m]\u001b[0m\u001b[0;34m)\u001b[0m\u001b[0;34m\u001b[0m\u001b[0;34m\u001b[0m\u001b[0m\n\u001b[0;32m---> 24\u001b[0;31m     \u001b[0mJ\u001b[0m \u001b[0;34m=\u001b[0m \u001b[0mjacobian_E\u001b[0m\u001b[0;34m(\u001b[0m\u001b[0mchi_prev\u001b[0m\u001b[0;34m,\u001b[0m \u001b[0mI_in\u001b[0m\u001b[0;34m,\u001b[0m \u001b[0mA_id\u001b[0m\u001b[0;34m,\u001b[0m \u001b[0mA_exp\u001b[0m\u001b[0;34m,\u001b[0m \u001b[0mA_alb\u001b[0m\u001b[0;34m,\u001b[0m \u001b[0mp_mu\u001b[0m\u001b[0;34m,\u001b[0m \u001b[0mb_mu\u001b[0m\u001b[0;34m,\u001b[0m \u001b[0mtri_mesh_data\u001b[0m\u001b[0;34m-\u001b[0m\u001b[0;36m1\u001b[0m\u001b[0;34m,\u001b[0m \u001b[0mlmks\u001b[0m\u001b[0;34m)\u001b[0m\u001b[0;34m\u001b[0m\u001b[0;34m\u001b[0m\u001b[0m\n\u001b[0m\u001b[1;32m     25\u001b[0m     \u001b[0mchi_next\u001b[0m \u001b[0;34m=\u001b[0m \u001b[0mchi_prev\u001b[0m \u001b[0;34m-\u001b[0m \u001b[0mnp\u001b[0m\u001b[0;34m.\u001b[0m\u001b[0mlinalg\u001b[0m\u001b[0;34m.\u001b[0m\u001b[0mpinv\u001b[0m\u001b[0;34m(\u001b[0m\u001b[0mJ\u001b[0m\u001b[0;34m@\u001b[0m\u001b[0mJ\u001b[0m\u001b[0;34m.\u001b[0m\u001b[0mT\u001b[0m\u001b[0;34m)\u001b[0m\u001b[0;34m@\u001b[0m\u001b[0mJ\u001b[0m\u001b[0;34m*\u001b[0m\u001b[0mE_val\u001b[0m\u001b[0;34m\u001b[0m\u001b[0;34m\u001b[0m\u001b[0m\n\u001b[1;32m     26\u001b[0m     \u001b[0mE_val\u001b[0m \u001b[0;34m=\u001b[0m \u001b[0mE\u001b[0m\u001b[0;34m(\u001b[0m\u001b[0mchi_next\u001b[0m\u001b[0;34m,\u001b[0m \u001b[0mI_in\u001b[0m\u001b[0;34m,\u001b[0m \u001b[0mA_id\u001b[0m\u001b[0;34m,\u001b[0m \u001b[0mA_exp\u001b[0m\u001b[0;34m,\u001b[0m \u001b[0mA_alb\u001b[0m\u001b[0;34m,\u001b[0m \u001b[0mp_mu\u001b[0m\u001b[0;34m,\u001b[0m \u001b[0mb_mu\u001b[0m\u001b[0;34m,\u001b[0m \u001b[0mtri_mesh_data\u001b[0m\u001b[0;34m-\u001b[0m\u001b[0;36m1\u001b[0m\u001b[0;34m,\u001b[0m \u001b[0mlmks\u001b[0m\u001b[0;34m)\u001b[0m\u001b[0;31m#np.linalg.norm(chi_next - chi_prev.T)\u001b[0m\u001b[0;34m\u001b[0m\u001b[0;34m\u001b[0m\u001b[0m\n",
      "\u001b[0;32m~/anaconda3/lib/python3.7/site-packages/autograd/wrap_util.py\u001b[0m in \u001b[0;36mnary_f\u001b[0;34m(*args, **kwargs)\u001b[0m\n\u001b[1;32m     18\u001b[0m             \u001b[0;32melse\u001b[0m\u001b[0;34m:\u001b[0m\u001b[0;34m\u001b[0m\u001b[0;34m\u001b[0m\u001b[0m\n\u001b[1;32m     19\u001b[0m                 \u001b[0mx\u001b[0m \u001b[0;34m=\u001b[0m \u001b[0mtuple\u001b[0m\u001b[0;34m(\u001b[0m\u001b[0margs\u001b[0m\u001b[0;34m[\u001b[0m\u001b[0mi\u001b[0m\u001b[0;34m]\u001b[0m \u001b[0;32mfor\u001b[0m \u001b[0mi\u001b[0m \u001b[0;32min\u001b[0m \u001b[0margnum\u001b[0m\u001b[0;34m)\u001b[0m\u001b[0;34m\u001b[0m\u001b[0;34m\u001b[0m\u001b[0m\n\u001b[0;32m---> 20\u001b[0;31m             \u001b[0;32mreturn\u001b[0m \u001b[0munary_operator\u001b[0m\u001b[0;34m(\u001b[0m\u001b[0munary_f\u001b[0m\u001b[0;34m,\u001b[0m \u001b[0mx\u001b[0m\u001b[0;34m,\u001b[0m \u001b[0;34m*\u001b[0m\u001b[0mnary_op_args\u001b[0m\u001b[0;34m,\u001b[0m \u001b[0;34m**\u001b[0m\u001b[0mnary_op_kwargs\u001b[0m\u001b[0;34m)\u001b[0m\u001b[0;34m\u001b[0m\u001b[0;34m\u001b[0m\u001b[0m\n\u001b[0m\u001b[1;32m     21\u001b[0m         \u001b[0;32mreturn\u001b[0m \u001b[0mnary_f\u001b[0m\u001b[0;34m\u001b[0m\u001b[0;34m\u001b[0m\u001b[0m\n\u001b[1;32m     22\u001b[0m     \u001b[0;32mreturn\u001b[0m \u001b[0mnary_operator\u001b[0m\u001b[0;34m\u001b[0m\u001b[0;34m\u001b[0m\u001b[0m\n",
      "\u001b[0;32m~/anaconda3/lib/python3.7/site-packages/autograd/differential_operators.py\u001b[0m in \u001b[0;36mjacobian\u001b[0;34m(fun, x)\u001b[0m\n\u001b[1;32m     49\u001b[0m     \u001b[0;34m(\u001b[0m\u001b[0mout1\u001b[0m\u001b[0;34m,\u001b[0m \u001b[0mout2\u001b[0m\u001b[0;34m,\u001b[0m \u001b[0;34m...\u001b[0m\u001b[0;34m)\u001b[0m \u001b[0mthen\u001b[0m \u001b[0mthe\u001b[0m \u001b[0mJacobian\u001b[0m \u001b[0mhas\u001b[0m \u001b[0mshape\u001b[0m \u001b[0;34m(\u001b[0m\u001b[0mout1\u001b[0m\u001b[0;34m,\u001b[0m \u001b[0mout2\u001b[0m\u001b[0;34m,\u001b[0m \u001b[0;34m...\u001b[0m\u001b[0;34m,\u001b[0m \u001b[0min1\u001b[0m\u001b[0;34m,\u001b[0m \u001b[0min2\u001b[0m\u001b[0;34m,\u001b[0m \u001b[0;34m...\u001b[0m\u001b[0;34m)\u001b[0m\u001b[0;34m.\u001b[0m\u001b[0;34m\u001b[0m\u001b[0;34m\u001b[0m\u001b[0m\n\u001b[1;32m     50\u001b[0m     \"\"\"\n\u001b[0;32m---> 51\u001b[0;31m     \u001b[0mvjp\u001b[0m\u001b[0;34m,\u001b[0m \u001b[0mans\u001b[0m \u001b[0;34m=\u001b[0m \u001b[0m_make_vjp\u001b[0m\u001b[0;34m(\u001b[0m\u001b[0mfun\u001b[0m\u001b[0;34m,\u001b[0m \u001b[0mx\u001b[0m\u001b[0;34m)\u001b[0m\u001b[0;34m\u001b[0m\u001b[0;34m\u001b[0m\u001b[0m\n\u001b[0m\u001b[1;32m     52\u001b[0m     \u001b[0mans_vspace\u001b[0m \u001b[0;34m=\u001b[0m \u001b[0mvspace\u001b[0m\u001b[0;34m(\u001b[0m\u001b[0mans\u001b[0m\u001b[0;34m)\u001b[0m\u001b[0;34m\u001b[0m\u001b[0;34m\u001b[0m\u001b[0m\n\u001b[1;32m     53\u001b[0m     \u001b[0mjacobian_shape\u001b[0m \u001b[0;34m=\u001b[0m \u001b[0mans_vspace\u001b[0m\u001b[0;34m.\u001b[0m\u001b[0mshape\u001b[0m \u001b[0;34m+\u001b[0m \u001b[0mvspace\u001b[0m\u001b[0;34m(\u001b[0m\u001b[0mx\u001b[0m\u001b[0;34m)\u001b[0m\u001b[0;34m.\u001b[0m\u001b[0mshape\u001b[0m\u001b[0;34m\u001b[0m\u001b[0;34m\u001b[0m\u001b[0m\n",
      "\u001b[0;32m~/anaconda3/lib/python3.7/site-packages/autograd/core.py\u001b[0m in \u001b[0;36mmake_vjp\u001b[0;34m(fun, x)\u001b[0m\n\u001b[1;32m      8\u001b[0m \u001b[0;32mdef\u001b[0m \u001b[0mmake_vjp\u001b[0m\u001b[0;34m(\u001b[0m\u001b[0mfun\u001b[0m\u001b[0;34m,\u001b[0m \u001b[0mx\u001b[0m\u001b[0;34m)\u001b[0m\u001b[0;34m:\u001b[0m\u001b[0;34m\u001b[0m\u001b[0;34m\u001b[0m\u001b[0m\n\u001b[1;32m      9\u001b[0m     \u001b[0mstart_node\u001b[0m \u001b[0;34m=\u001b[0m \u001b[0mVJPNode\u001b[0m\u001b[0;34m.\u001b[0m\u001b[0mnew_root\u001b[0m\u001b[0;34m(\u001b[0m\u001b[0mx\u001b[0m\u001b[0;34m)\u001b[0m\u001b[0;34m\u001b[0m\u001b[0;34m\u001b[0m\u001b[0m\n\u001b[0;32m---> 10\u001b[0;31m     \u001b[0mend_value\u001b[0m\u001b[0;34m,\u001b[0m \u001b[0mend_node\u001b[0m \u001b[0;34m=\u001b[0m  \u001b[0mtrace\u001b[0m\u001b[0;34m(\u001b[0m\u001b[0mstart_node\u001b[0m\u001b[0;34m,\u001b[0m \u001b[0mfun\u001b[0m\u001b[0;34m,\u001b[0m \u001b[0mx\u001b[0m\u001b[0;34m)\u001b[0m\u001b[0;34m\u001b[0m\u001b[0;34m\u001b[0m\u001b[0m\n\u001b[0m\u001b[1;32m     11\u001b[0m     \u001b[0;32mif\u001b[0m \u001b[0mend_node\u001b[0m \u001b[0;32mis\u001b[0m \u001b[0;32mNone\u001b[0m\u001b[0;34m:\u001b[0m\u001b[0;34m\u001b[0m\u001b[0;34m\u001b[0m\u001b[0m\n\u001b[1;32m     12\u001b[0m         \u001b[0;32mdef\u001b[0m \u001b[0mvjp\u001b[0m\u001b[0;34m(\u001b[0m\u001b[0mg\u001b[0m\u001b[0;34m)\u001b[0m\u001b[0;34m:\u001b[0m \u001b[0;32mreturn\u001b[0m \u001b[0mvspace\u001b[0m\u001b[0;34m(\u001b[0m\u001b[0mx\u001b[0m\u001b[0;34m)\u001b[0m\u001b[0;34m.\u001b[0m\u001b[0mzeros\u001b[0m\u001b[0;34m(\u001b[0m\u001b[0;34m)\u001b[0m\u001b[0;34m\u001b[0m\u001b[0;34m\u001b[0m\u001b[0m\n",
      "\u001b[0;32m~/anaconda3/lib/python3.7/site-packages/autograd/tracer.py\u001b[0m in \u001b[0;36mtrace\u001b[0;34m(start_node, fun, x)\u001b[0m\n\u001b[1;32m      8\u001b[0m     \u001b[0;32mwith\u001b[0m \u001b[0mtrace_stack\u001b[0m\u001b[0;34m.\u001b[0m\u001b[0mnew_trace\u001b[0m\u001b[0;34m(\u001b[0m\u001b[0;34m)\u001b[0m \u001b[0;32mas\u001b[0m \u001b[0mt\u001b[0m\u001b[0;34m:\u001b[0m\u001b[0;34m\u001b[0m\u001b[0;34m\u001b[0m\u001b[0m\n\u001b[1;32m      9\u001b[0m         \u001b[0mstart_box\u001b[0m \u001b[0;34m=\u001b[0m \u001b[0mnew_box\u001b[0m\u001b[0;34m(\u001b[0m\u001b[0mx\u001b[0m\u001b[0;34m,\u001b[0m \u001b[0mt\u001b[0m\u001b[0;34m,\u001b[0m \u001b[0mstart_node\u001b[0m\u001b[0;34m)\u001b[0m\u001b[0;34m\u001b[0m\u001b[0;34m\u001b[0m\u001b[0m\n\u001b[0;32m---> 10\u001b[0;31m         \u001b[0mend_box\u001b[0m \u001b[0;34m=\u001b[0m \u001b[0mfun\u001b[0m\u001b[0;34m(\u001b[0m\u001b[0mstart_box\u001b[0m\u001b[0;34m)\u001b[0m\u001b[0;34m\u001b[0m\u001b[0;34m\u001b[0m\u001b[0m\n\u001b[0m\u001b[1;32m     11\u001b[0m         \u001b[0;32mif\u001b[0m \u001b[0misbox\u001b[0m\u001b[0;34m(\u001b[0m\u001b[0mend_box\u001b[0m\u001b[0;34m)\u001b[0m \u001b[0;32mand\u001b[0m \u001b[0mend_box\u001b[0m\u001b[0;34m.\u001b[0m\u001b[0m_trace\u001b[0m \u001b[0;34m==\u001b[0m \u001b[0mstart_box\u001b[0m\u001b[0;34m.\u001b[0m\u001b[0m_trace\u001b[0m\u001b[0;34m:\u001b[0m\u001b[0;34m\u001b[0m\u001b[0;34m\u001b[0m\u001b[0m\n\u001b[1;32m     12\u001b[0m             \u001b[0;32mreturn\u001b[0m \u001b[0mend_box\u001b[0m\u001b[0;34m.\u001b[0m\u001b[0m_value\u001b[0m\u001b[0;34m,\u001b[0m \u001b[0mend_box\u001b[0m\u001b[0;34m.\u001b[0m\u001b[0m_node\u001b[0m\u001b[0;34m\u001b[0m\u001b[0;34m\u001b[0m\u001b[0m\n",
      "\u001b[0;32m~/anaconda3/lib/python3.7/site-packages/autograd/wrap_util.py\u001b[0m in \u001b[0;36munary_f\u001b[0;34m(x)\u001b[0m\n\u001b[1;32m     13\u001b[0m                 \u001b[0;32melse\u001b[0m\u001b[0;34m:\u001b[0m\u001b[0;34m\u001b[0m\u001b[0;34m\u001b[0m\u001b[0m\n\u001b[1;32m     14\u001b[0m                     \u001b[0msubargs\u001b[0m \u001b[0;34m=\u001b[0m \u001b[0msubvals\u001b[0m\u001b[0;34m(\u001b[0m\u001b[0margs\u001b[0m\u001b[0;34m,\u001b[0m \u001b[0mzip\u001b[0m\u001b[0;34m(\u001b[0m\u001b[0margnum\u001b[0m\u001b[0;34m,\u001b[0m \u001b[0mx\u001b[0m\u001b[0;34m)\u001b[0m\u001b[0;34m)\u001b[0m\u001b[0;34m\u001b[0m\u001b[0;34m\u001b[0m\u001b[0m\n\u001b[0;32m---> 15\u001b[0;31m                 \u001b[0;32mreturn\u001b[0m \u001b[0mfun\u001b[0m\u001b[0;34m(\u001b[0m\u001b[0;34m*\u001b[0m\u001b[0msubargs\u001b[0m\u001b[0;34m,\u001b[0m \u001b[0;34m**\u001b[0m\u001b[0mkwargs\u001b[0m\u001b[0;34m)\u001b[0m\u001b[0;34m\u001b[0m\u001b[0;34m\u001b[0m\u001b[0m\n\u001b[0m\u001b[1;32m     16\u001b[0m             \u001b[0;32mif\u001b[0m \u001b[0misinstance\u001b[0m\u001b[0;34m(\u001b[0m\u001b[0margnum\u001b[0m\u001b[0;34m,\u001b[0m \u001b[0mint\u001b[0m\u001b[0;34m)\u001b[0m\u001b[0;34m:\u001b[0m\u001b[0;34m\u001b[0m\u001b[0;34m\u001b[0m\u001b[0m\n\u001b[1;32m     17\u001b[0m                 \u001b[0mx\u001b[0m \u001b[0;34m=\u001b[0m \u001b[0margs\u001b[0m\u001b[0;34m[\u001b[0m\u001b[0margnum\u001b[0m\u001b[0;34m]\u001b[0m\u001b[0;34m\u001b[0m\u001b[0;34m\u001b[0m\u001b[0m\n",
      "\u001b[0;32m<ipython-input-21-ca7906fa0cea>\u001b[0m in \u001b[0;36mE\u001b[0;34m(chi, I_in, A_id, A_exp, A_alb, p_mu, b_mu, tri_mesh_data, lmks)\u001b[0m\n\u001b[1;32m     24\u001b[0m \u001b[0;31m#     return tri_ind_info,bary_wts_info,albedo\u001b[0m\u001b[0;34m\u001b[0m\u001b[0;34m\u001b[0m\u001b[0;34m\u001b[0m\u001b[0m\n\u001b[1;32m     25\u001b[0m \u001b[0;34m\u001b[0m\u001b[0m\n\u001b[0;32m---> 26\u001b[0;31m     \u001b[0mI_rend\u001b[0m \u001b[0;34m=\u001b[0m \u001b[0mrender_color_image\u001b[0m\u001b[0;34m(\u001b[0m\u001b[0mq_image\u001b[0m\u001b[0;34m,\u001b[0m \u001b[0malbedo\u001b[0m\u001b[0;34m,\u001b[0m \u001b[0mtri_mesh_data\u001b[0m\u001b[0;34m,\u001b[0m \u001b[0mgamma\u001b[0m\u001b[0;34m,\u001b[0m \u001b[0mh\u001b[0m\u001b[0;34m,\u001b[0m \u001b[0mw\u001b[0m\u001b[0;34m)\u001b[0m\u001b[0;34m\u001b[0m\u001b[0;34m\u001b[0m\u001b[0m\n\u001b[0m\u001b[1;32m     27\u001b[0m \u001b[0;34m\u001b[0m\u001b[0m\n\u001b[1;32m     28\u001b[0m     \u001b[0mw_l\u001b[0m \u001b[0;34m=\u001b[0m \u001b[0;36m10\u001b[0m\u001b[0;34m\u001b[0m\u001b[0;34m\u001b[0m\u001b[0m\n",
      "\u001b[0;32m<ipython-input-17-926cce30f1b2>\u001b[0m in \u001b[0;36mrender_color_image\u001b[0;34m(q, albedo, tri_mesh_data, gamma, h, w)\u001b[0m\n\u001b[1;32m    126\u001b[0m     \u001b[0mprint\u001b[0m\u001b[0;34m(\u001b[0m\u001b[0mtime\u001b[0m\u001b[0;34m(\u001b[0m\u001b[0;34m)\u001b[0m\u001b[0;34m-\u001b[0m\u001b[0mst\u001b[0m\u001b[0;34m)\u001b[0m\u001b[0;34m\u001b[0m\u001b[0;34m\u001b[0m\u001b[0m\n\u001b[1;32m    127\u001b[0m \u001b[0;34m\u001b[0m\u001b[0m\n\u001b[0;32m--> 128\u001b[0;31m     \u001b[0mn_sph\u001b[0m \u001b[0;34m=\u001b[0m \u001b[0mcalculate_normal\u001b[0m\u001b[0;34m(\u001b[0m\u001b[0mtri_ind_info\u001b[0m\u001b[0;34m,\u001b[0m \u001b[0mtri_mesh_data\u001b[0m\u001b[0;34m,\u001b[0m \u001b[0mcentroid\u001b[0m\u001b[0;34m,\u001b[0m \u001b[0mq\u001b[0m\u001b[0;34m,\u001b[0m \u001b[0mh\u001b[0m\u001b[0;34m,\u001b[0m \u001b[0mw\u001b[0m\u001b[0;34m)\u001b[0m\u001b[0;34m\u001b[0m\u001b[0;34m\u001b[0m\u001b[0m\n\u001b[0m\u001b[1;32m    129\u001b[0m \u001b[0;34m\u001b[0m\u001b[0m\n\u001b[1;32m    130\u001b[0m \u001b[0;31m#     for i in range(h):\u001b[0m\u001b[0;34m\u001b[0m\u001b[0;34m\u001b[0m\u001b[0;34m\u001b[0m\u001b[0m\n",
      "\u001b[0;32m<ipython-input-17-926cce30f1b2>\u001b[0m in \u001b[0;36mcalculate_normal\u001b[0;34m(tri_ind_info, tri_mesh_data, centroid, q, h, w)\u001b[0m\n\u001b[1;32m    114\u001b[0m             \u001b[0;32mif\u001b[0m \u001b[0mnp\u001b[0m\u001b[0;34m.\u001b[0m\u001b[0mdot\u001b[0m\u001b[0;34m(\u001b[0m\u001b[0mnp\u001b[0m\u001b[0;34m.\u001b[0m\u001b[0mmean\u001b[0m\u001b[0;34m(\u001b[0m\u001b[0mtri_ver\u001b[0m\u001b[0;34m,\u001b[0m \u001b[0;36m0\u001b[0m\u001b[0;34m)\u001b[0m\u001b[0;34m-\u001b[0m\u001b[0mcentroid\u001b[0m\u001b[0;34m,\u001b[0m \u001b[0mnormal_xyz\u001b[0m\u001b[0;34m[\u001b[0m\u001b[0;34m(\u001b[0m\u001b[0mi\u001b[0m\u001b[0;34m,\u001b[0m\u001b[0mj\u001b[0m\u001b[0;34m)\u001b[0m\u001b[0;34m]\u001b[0m\u001b[0;34m)\u001b[0m\u001b[0;34m<\u001b[0m\u001b[0;36m0\u001b[0m\u001b[0;34m:\u001b[0m\u001b[0;34m\u001b[0m\u001b[0;34m\u001b[0m\u001b[0m\n\u001b[1;32m    115\u001b[0m                 \u001b[0mnormal_xyz\u001b[0m\u001b[0;34m[\u001b[0m\u001b[0;34m(\u001b[0m\u001b[0mi\u001b[0m\u001b[0;34m,\u001b[0m\u001b[0mj\u001b[0m\u001b[0;34m)\u001b[0m\u001b[0;34m]\u001b[0m \u001b[0;34m*=\u001b[0m \u001b[0;34m-\u001b[0m\u001b[0;36m1\u001b[0m\u001b[0;34m\u001b[0m\u001b[0;34m\u001b[0m\u001b[0m\n\u001b[0;32m--> 116\u001b[0;31m             \u001b[0mnormal_sph\u001b[0m\u001b[0;34m[\u001b[0m\u001b[0;34m(\u001b[0m\u001b[0mi\u001b[0m\u001b[0;34m,\u001b[0m\u001b[0mj\u001b[0m\u001b[0;34m)\u001b[0m\u001b[0;34m]\u001b[0m \u001b[0;34m=\u001b[0m \u001b[0mcart2sph\u001b[0m\u001b[0;34m(\u001b[0m\u001b[0mnormal_xyz\u001b[0m\u001b[0;34m[\u001b[0m\u001b[0;34m(\u001b[0m\u001b[0mi\u001b[0m\u001b[0;34m,\u001b[0m\u001b[0mj\u001b[0m\u001b[0;34m)\u001b[0m\u001b[0;34m]\u001b[0m\u001b[0;34m)\u001b[0m\u001b[0;34m\u001b[0m\u001b[0;34m\u001b[0m\u001b[0m\n\u001b[0m\u001b[1;32m    117\u001b[0m     \u001b[0;32mreturn\u001b[0m \u001b[0mnormal_sph\u001b[0m\u001b[0;34m\u001b[0m\u001b[0;34m\u001b[0m\u001b[0m\n\u001b[1;32m    118\u001b[0m \u001b[0;34m\u001b[0m\u001b[0m\n",
      "\u001b[0;32m<ipython-input-17-926cce30f1b2>\u001b[0m in \u001b[0;36mcart2sph\u001b[0;34m(n)\u001b[0m\n\u001b[1;32m     86\u001b[0m             \u001b[0mphi\u001b[0m \u001b[0;34m=\u001b[0m \u001b[0mnp\u001b[0m\u001b[0;34m.\u001b[0m\u001b[0mpi\u001b[0m\u001b[0;34m/\u001b[0m\u001b[0;36m2\u001b[0m\u001b[0;34m\u001b[0m\u001b[0;34m\u001b[0m\u001b[0m\n\u001b[1;32m     87\u001b[0m     \u001b[0;32melse\u001b[0m\u001b[0;34m:\u001b[0m\u001b[0;34m\u001b[0m\u001b[0;34m\u001b[0m\u001b[0m\n\u001b[0;32m---> 88\u001b[0;31m         \u001b[0;32mif\u001b[0m \u001b[0mn\u001b[0m\u001b[0;34m[\u001b[0m\u001b[0;36m0\u001b[0m\u001b[0;34m]\u001b[0m\u001b[0;34m>\u001b[0m\u001b[0;36m0\u001b[0m\u001b[0;34m:\u001b[0m\u001b[0;34m\u001b[0m\u001b[0;34m\u001b[0m\u001b[0m\n\u001b[0m\u001b[1;32m     89\u001b[0m             \u001b[0mphi\u001b[0m \u001b[0;34m=\u001b[0m \u001b[0mnp\u001b[0m\u001b[0;34m.\u001b[0m\u001b[0marctan\u001b[0m\u001b[0;34m(\u001b[0m\u001b[0mtemp\u001b[0m\u001b[0;34m)\u001b[0m\u001b[0;34m\u001b[0m\u001b[0;34m\u001b[0m\u001b[0m\n\u001b[1;32m     90\u001b[0m         \u001b[0;32melif\u001b[0m \u001b[0mn\u001b[0m\u001b[0;34m[\u001b[0m\u001b[0;36m1\u001b[0m\u001b[0;34m]\u001b[0m\u001b[0;34m<\u001b[0m\u001b[0;36m0\u001b[0m\u001b[0;34m:\u001b[0m\u001b[0;34m\u001b[0m\u001b[0;34m\u001b[0m\u001b[0m\n",
      "\u001b[0;32m~/anaconda3/lib/python3.7/site-packages/autograd/numpy/numpy_boxes.py\u001b[0m in \u001b[0;36m__gt__\u001b[0;34m(self, other)\u001b[0m\n\u001b[1;32m     40\u001b[0m     \u001b[0;32mdef\u001b[0m \u001b[0m__eq__\u001b[0m\u001b[0;34m(\u001b[0m\u001b[0mself\u001b[0m\u001b[0;34m,\u001b[0m \u001b[0mother\u001b[0m\u001b[0;34m)\u001b[0m\u001b[0;34m:\u001b[0m \u001b[0;32mreturn\u001b[0m \u001b[0manp\u001b[0m\u001b[0;34m.\u001b[0m\u001b[0mequal\u001b[0m\u001b[0;34m(\u001b[0m\u001b[0mself\u001b[0m\u001b[0;34m,\u001b[0m \u001b[0mother\u001b[0m\u001b[0;34m)\u001b[0m\u001b[0;34m\u001b[0m\u001b[0;34m\u001b[0m\u001b[0m\n\u001b[1;32m     41\u001b[0m     \u001b[0;32mdef\u001b[0m \u001b[0m__ne__\u001b[0m\u001b[0;34m(\u001b[0m\u001b[0mself\u001b[0m\u001b[0;34m,\u001b[0m \u001b[0mother\u001b[0m\u001b[0;34m)\u001b[0m\u001b[0;34m:\u001b[0m \u001b[0;32mreturn\u001b[0m \u001b[0manp\u001b[0m\u001b[0;34m.\u001b[0m\u001b[0mnot_equal\u001b[0m\u001b[0;34m(\u001b[0m\u001b[0mself\u001b[0m\u001b[0;34m,\u001b[0m \u001b[0mother\u001b[0m\u001b[0;34m)\u001b[0m\u001b[0;34m\u001b[0m\u001b[0;34m\u001b[0m\u001b[0m\n\u001b[0;32m---> 42\u001b[0;31m     \u001b[0;32mdef\u001b[0m \u001b[0m__gt__\u001b[0m\u001b[0;34m(\u001b[0m\u001b[0mself\u001b[0m\u001b[0;34m,\u001b[0m \u001b[0mother\u001b[0m\u001b[0;34m)\u001b[0m\u001b[0;34m:\u001b[0m \u001b[0;32mreturn\u001b[0m \u001b[0manp\u001b[0m\u001b[0;34m.\u001b[0m\u001b[0mgreater\u001b[0m\u001b[0;34m(\u001b[0m\u001b[0mself\u001b[0m\u001b[0;34m,\u001b[0m \u001b[0mother\u001b[0m\u001b[0;34m)\u001b[0m\u001b[0;34m\u001b[0m\u001b[0;34m\u001b[0m\u001b[0m\n\u001b[0m\u001b[1;32m     43\u001b[0m     \u001b[0;32mdef\u001b[0m \u001b[0m__ge__\u001b[0m\u001b[0;34m(\u001b[0m\u001b[0mself\u001b[0m\u001b[0;34m,\u001b[0m \u001b[0mother\u001b[0m\u001b[0;34m)\u001b[0m\u001b[0;34m:\u001b[0m \u001b[0;32mreturn\u001b[0m \u001b[0manp\u001b[0m\u001b[0;34m.\u001b[0m\u001b[0mgreater_equal\u001b[0m\u001b[0;34m(\u001b[0m\u001b[0mself\u001b[0m\u001b[0;34m,\u001b[0m \u001b[0mother\u001b[0m\u001b[0;34m)\u001b[0m\u001b[0;34m\u001b[0m\u001b[0;34m\u001b[0m\u001b[0m\n\u001b[1;32m     44\u001b[0m     \u001b[0;32mdef\u001b[0m \u001b[0m__lt__\u001b[0m\u001b[0;34m(\u001b[0m\u001b[0mself\u001b[0m\u001b[0;34m,\u001b[0m \u001b[0mother\u001b[0m\u001b[0;34m)\u001b[0m\u001b[0;34m:\u001b[0m \u001b[0;32mreturn\u001b[0m \u001b[0manp\u001b[0m\u001b[0;34m.\u001b[0m\u001b[0mless\u001b[0m\u001b[0;34m(\u001b[0m\u001b[0mself\u001b[0m\u001b[0;34m,\u001b[0m \u001b[0mother\u001b[0m\u001b[0;34m)\u001b[0m\u001b[0;34m\u001b[0m\u001b[0;34m\u001b[0m\u001b[0m\n",
      "\u001b[0;32m~/anaconda3/lib/python3.7/site-packages/autograd/tracer.py\u001b[0m in \u001b[0;36mf_wrapped\u001b[0;34m(*args, **kwargs)\u001b[0m\n\u001b[1;32m     39\u001b[0m             \u001b[0margvals\u001b[0m \u001b[0;34m=\u001b[0m \u001b[0msubvals\u001b[0m\u001b[0;34m(\u001b[0m\u001b[0margs\u001b[0m\u001b[0;34m,\u001b[0m \u001b[0;34m[\u001b[0m\u001b[0;34m(\u001b[0m\u001b[0margnum\u001b[0m\u001b[0;34m,\u001b[0m \u001b[0mbox\u001b[0m\u001b[0;34m.\u001b[0m\u001b[0m_value\u001b[0m\u001b[0;34m)\u001b[0m \u001b[0;32mfor\u001b[0m \u001b[0margnum\u001b[0m\u001b[0;34m,\u001b[0m \u001b[0mbox\u001b[0m \u001b[0;32min\u001b[0m \u001b[0mboxed_args\u001b[0m\u001b[0;34m]\u001b[0m\u001b[0;34m)\u001b[0m\u001b[0;34m\u001b[0m\u001b[0;34m\u001b[0m\u001b[0m\n\u001b[1;32m     40\u001b[0m             \u001b[0;32mif\u001b[0m \u001b[0mf_wrapped\u001b[0m \u001b[0;32min\u001b[0m \u001b[0mnotrace_primitives\u001b[0m\u001b[0;34m[\u001b[0m\u001b[0mnode_constructor\u001b[0m\u001b[0;34m]\u001b[0m\u001b[0;34m:\u001b[0m\u001b[0;34m\u001b[0m\u001b[0;34m\u001b[0m\u001b[0m\n\u001b[0;32m---> 41\u001b[0;31m                 \u001b[0;32mreturn\u001b[0m \u001b[0mf_wrapped\u001b[0m\u001b[0;34m(\u001b[0m\u001b[0;34m*\u001b[0m\u001b[0margvals\u001b[0m\u001b[0;34m,\u001b[0m \u001b[0;34m**\u001b[0m\u001b[0mkwargs\u001b[0m\u001b[0;34m)\u001b[0m\u001b[0;34m\u001b[0m\u001b[0;34m\u001b[0m\u001b[0m\n\u001b[0m\u001b[1;32m     42\u001b[0m             \u001b[0mparents\u001b[0m \u001b[0;34m=\u001b[0m \u001b[0mtuple\u001b[0m\u001b[0;34m(\u001b[0m\u001b[0mbox\u001b[0m\u001b[0;34m.\u001b[0m\u001b[0m_node\u001b[0m \u001b[0;32mfor\u001b[0m \u001b[0m_\u001b[0m     \u001b[0;34m,\u001b[0m \u001b[0mbox\u001b[0m \u001b[0;32min\u001b[0m \u001b[0mboxed_args\u001b[0m\u001b[0;34m)\u001b[0m\u001b[0;34m\u001b[0m\u001b[0;34m\u001b[0m\u001b[0m\n\u001b[1;32m     43\u001b[0m             \u001b[0margnums\u001b[0m \u001b[0;34m=\u001b[0m \u001b[0mtuple\u001b[0m\u001b[0;34m(\u001b[0m\u001b[0margnum\u001b[0m    \u001b[0;32mfor\u001b[0m \u001b[0margnum\u001b[0m\u001b[0;34m,\u001b[0m \u001b[0m_\u001b[0m   \u001b[0;32min\u001b[0m \u001b[0mboxed_args\u001b[0m\u001b[0;34m)\u001b[0m\u001b[0;34m\u001b[0m\u001b[0;34m\u001b[0m\u001b[0m\n",
      "\u001b[0;32m~/anaconda3/lib/python3.7/site-packages/autograd/tracer.py\u001b[0m in \u001b[0;36mf_wrapped\u001b[0;34m(*args, **kwargs)\u001b[0m\n\u001b[1;32m     46\u001b[0m             \u001b[0;32mreturn\u001b[0m \u001b[0mnew_box\u001b[0m\u001b[0;34m(\u001b[0m\u001b[0mans\u001b[0m\u001b[0;34m,\u001b[0m \u001b[0mtrace\u001b[0m\u001b[0;34m,\u001b[0m \u001b[0mnode\u001b[0m\u001b[0;34m)\u001b[0m\u001b[0;34m\u001b[0m\u001b[0;34m\u001b[0m\u001b[0m\n\u001b[1;32m     47\u001b[0m         \u001b[0;32melse\u001b[0m\u001b[0;34m:\u001b[0m\u001b[0;34m\u001b[0m\u001b[0;34m\u001b[0m\u001b[0m\n\u001b[0;32m---> 48\u001b[0;31m             \u001b[0;32mreturn\u001b[0m \u001b[0mf_raw\u001b[0m\u001b[0;34m(\u001b[0m\u001b[0;34m*\u001b[0m\u001b[0margs\u001b[0m\u001b[0;34m,\u001b[0m \u001b[0;34m**\u001b[0m\u001b[0mkwargs\u001b[0m\u001b[0;34m)\u001b[0m\u001b[0;34m\u001b[0m\u001b[0;34m\u001b[0m\u001b[0m\n\u001b[0m\u001b[1;32m     49\u001b[0m     \u001b[0mf_wrapped\u001b[0m\u001b[0;34m.\u001b[0m\u001b[0mfun\u001b[0m \u001b[0;34m=\u001b[0m \u001b[0mf_raw\u001b[0m\u001b[0;34m\u001b[0m\u001b[0;34m\u001b[0m\u001b[0m\n\u001b[1;32m     50\u001b[0m     \u001b[0mf_wrapped\u001b[0m\u001b[0;34m.\u001b[0m\u001b[0m_is_autograd_primitive\u001b[0m \u001b[0;34m=\u001b[0m \u001b[0;32mTrue\u001b[0m\u001b[0;34m\u001b[0m\u001b[0;34m\u001b[0m\u001b[0m\n",
      "\u001b[0;31mKeyboardInterrupt\u001b[0m: "
     ]
    }
   ],
   "source": [
    "jacobian_E = jacobian(E)\n",
    "chi = np.random.rand(313,1)\n",
    "# jacobian_E(chi, I_rend, I_in, q, points, R, PI)\n",
    "chi[0:100] = chi_data[0:100]\n",
    "chi[100:179] = chi_data[100:179]\n",
    "chi[280:283,0] = chi_data[179:182,0]\n",
    "chi[283:285] = chi_data[182:184]\n",
    "chi[279,0] = chi_data[184,0]\n",
    "chi_prev = chi\n",
    "count = 1\n",
    "\n",
    "while True:\n",
    "#     chi_prev[279] = 100/(np.max(vertex) - np.min(vertex))\n",
    "    chi_prev[0:100] = chi_data[0:100]\n",
    "    chi_prev[100:179] = chi_data[100:179]\n",
    "    chi_prev[280:283,0] = chi_data[179:182,0]\n",
    "    chi_prev[283:285] = chi_data[182:184]\n",
    "    chi_prev[279,0] = chi_data[184,0]\n",
    "    print(\"Iteration No: \", count)\n",
    "    if count==1:\n",
    "#         chi_prev[279,0] = 200/(np.max(vertex) - np.min(vertex))\n",
    "        E_val = E(chi_prev, I_in, A_id, A_exp, A_alb, p_mu, b_mu, tri_mesh_data-1, lmks)\n",
    "    print(chi_prev[279,0])\n",
    "    J = jacobian_E(chi_prev, I_in, A_id, A_exp, A_alb, p_mu, b_mu, tri_mesh_data-1, lmks)\n",
    "    chi_next = chi_prev - np.linalg.pinv(J@J.T)@J*E_val\n",
    "    E_val = E(chi_next, I_in, A_id, A_exp, A_alb, p_mu, b_mu, tri_mesh_data-1, lmks)#np.linalg.norm(chi_next - chi_prev.T)\n",
    "    chi_prev = chi_next\n",
    "    count=count+1\n",
    "    print('Error: ',E_val)\n",
    "    if E_val<10:\n",
    "        break"
   ]
  },
  {
   "cell_type": "code",
   "execution_count": null,
   "metadata": {},
   "outputs": [],
   "source": [
    "al_id = chi_prev[0:100]\n",
    "al_exp = chi_prev[100:179]\n",
    "al_alb = chi_prev[179:279]\n",
    "[s, pitch, yaw, roll] = chi_prev[279:283,0]\n",
    "t = chi_prev[283:286]\n",
    "r = chi_prev[286:]\n",
    "gamma = np.reshape(r,(9,3),'F')\n",
    "\n",
    "R = rot_mat(pitch, yaw, roll)\n",
    "\n",
    "p = p_mu + np.matmul(A_id,al_id) + np.matmul(A_exp,al_exp)\n",
    "b = b_mu + np.matmul(A_alb,al_alb)\n",
    "vertex = np.reshape(p, (no_of_ver, 3))\n",
    "albedo = np.reshape(b, (no_of_ver, 3))\n",
    "\n",
    "q_world = s*R@vertex.T+t\n",
    "#     q_depth = [0, 0, 1]@R@vertex.T\n",
    "\n",
    "q_image = world_to_image(q_world.T, h, w)\n",
    "I_rend = render_color_image(q_image, albedo, tri_mesh_data-1, gamma, h, w)"
   ]
  },
  {
   "cell_type": "code",
   "execution_count": null,
   "metadata": {},
   "outputs": [],
   "source": [
    "im = I_rend+np.abs(np.min(I_rend))\n",
    "im = im/np.max(im)\n",
    "plt.imshow(im)"
   ]
  },
  {
   "cell_type": "code",
   "execution_count": null,
   "metadata": {},
   "outputs": [],
   "source": [
    "fig = plt.figure()\n",
    "\n",
    "ax = plt.axes(projection='3d')\n",
    "ax.scatter3D(vertex[:,0],vertex[:,1],vertex[:,2])"
   ]
  },
  {
   "cell_type": "code",
   "execution_count": null,
   "metadata": {},
   "outputs": [],
   "source": [
    "plt.imshow(I_rend)"
   ]
  },
  {
   "cell_type": "code",
   "execution_count": 23,
   "metadata": {},
   "outputs": [],
   "source": [
    "chi_data = np.loadtxt('test_chi.txt')\n",
    "chi_data = chi_data[:,np.newaxis]"
   ]
  },
  {
   "cell_type": "code",
   "execution_count": null,
   "metadata": {},
   "outputs": [],
   "source": [
    "chi_data.shape"
   ]
  },
  {
   "cell_type": "code",
   "execution_count": null,
   "metadata": {},
   "outputs": [],
   "source": [
    "chi[280:283,0].shape #= chi_data[179:182,:]"
   ]
  },
  {
   "cell_type": "code",
   "execution_count": null,
   "metadata": {},
   "outputs": [],
   "source": [
    "np.random.rand(313,1)"
   ]
  },
  {
   "cell_type": "code",
   "execution_count": 37,
   "metadata": {},
   "outputs": [
    {
     "data": {
      "text/plain": [
       "array([ 0.28209479, -0.40723506,  0.19938992, -0.18203208,  0.33925199,\n",
       "       -0.37160168, -0.15782418, -0.16610413, -0.30365866])"
      ]
     },
     "execution_count": 37,
     "metadata": {},
     "output_type": "execute_result"
    }
   ],
   "source": [
    "sh_basis([20,20])"
   ]
  },
  {
   "cell_type": "code",
   "execution_count": 36,
   "metadata": {},
   "outputs": [
    {
     "data": {
      "text/plain": [
       "0.28209479177387814"
      ]
     },
     "execution_count": 36,
     "metadata": {},
     "output_type": "execute_result"
    }
   ],
   "source": [
    "SH(0,0,0,20)"
   ]
  },
  {
   "cell_type": "code",
   "execution_count": null,
   "metadata": {},
   "outputs": [],
   "source": []
  }
 ],
 "metadata": {
  "kernelspec": {
   "display_name": "Python 3",
   "language": "python",
   "name": "python3"
  },
  "language_info": {
   "codemirror_mode": {
    "name": "ipython",
    "version": 3
   },
   "file_extension": ".py",
   "mimetype": "text/x-python",
   "name": "python",
   "nbconvert_exporter": "python",
   "pygments_lexer": "ipython3",
   "version": "3.7.3"
  }
 },
 "nbformat": 4,
 "nbformat_minor": 2
}
